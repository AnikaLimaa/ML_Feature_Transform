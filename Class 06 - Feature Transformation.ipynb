{
 "cells": [
  {
   "cell_type": "code",
   "execution_count": null,
   "id": "cd491a2f",
   "metadata": {},
   "outputs": [],
   "source": [
    "import pandas as pd"
   ]
  },
  {
   "cell_type": "code",
   "execution_count": null,
   "id": "5c7d2627",
   "metadata": {},
   "outputs": [],
   "source": [
    "df = pd.read_csv(\"supershops.csv\")\n",
    "df.head()"
   ]
  },
  {
   "cell_type": "code",
   "execution_count": null,
   "id": "52a7c4f6",
   "metadata": {},
   "outputs": [],
   "source": [
    "x = df.drop('Profit', axis=1)\n",
    "y = df['Profit']"
   ]
  },
  {
   "cell_type": "code",
   "execution_count": null,
   "id": "6787f0c2",
   "metadata": {},
   "outputs": [],
   "source": [
    "y.head()"
   ]
  },
  {
   "cell_type": "code",
   "execution_count": null,
   "id": "00e6bafa",
   "metadata": {},
   "outputs": [],
   "source": [
    "x.head()"
   ]
  },
  {
   "cell_type": "code",
   "execution_count": null,
   "id": "3093a9f4",
   "metadata": {},
   "outputs": [],
   "source": [
    "x2 = x.copy()\n",
    "x4 = x.copy()\n",
    "x5 = x.copy()\n",
    "x6 = x.copy()\n",
    "x2"
   ]
  },
  {
   "cell_type": "code",
   "execution_count": null,
   "id": "4b3698ec",
   "metadata": {},
   "outputs": [],
   "source": [
    "x2.head()"
   ]
  },
  {
   "cell_type": "markdown",
   "id": "f0ba4620",
   "metadata": {},
   "source": [
    "# Normalization"
   ]
  },
  {
   "cell_type": "code",
   "execution_count": null,
   "id": "9414b7e4",
   "metadata": {},
   "outputs": [],
   "source": [
    "from sklearn.preprocessing import MinMaxScaler"
   ]
  },
  {
   "cell_type": "code",
   "execution_count": null,
   "id": "dc7a9264",
   "metadata": {},
   "outputs": [],
   "source": [
    "m = MinMaxScaler() #feature_range=(0, 1)"
   ]
  },
  {
   "cell_type": "code",
   "execution_count": null,
   "id": "bc087bc1",
   "metadata": {},
   "outputs": [],
   "source": [
    "df_mar_sp = m.fit(x[['Marketing Spend']]) #calculating\n",
    "df_mar_sp"
   ]
  },
  {
   "cell_type": "code",
   "execution_count": null,
   "id": "0da7d821",
   "metadata": {},
   "outputs": [],
   "source": [
    "x.head()"
   ]
  },
  {
   "cell_type": "code",
   "execution_count": null,
   "id": "d2f4b086",
   "metadata": {},
   "outputs": [],
   "source": [
    "x['Marketing Spend'] = m.transform(x[['Marketing Spend']])"
   ]
  },
  {
   "cell_type": "code",
   "execution_count": null,
   "id": "2630a06e",
   "metadata": {},
   "outputs": [],
   "source": [
    "x['Marketing Spend'].head()"
   ]
  },
  {
   "cell_type": "code",
   "execution_count": null,
   "id": "855dc63b",
   "metadata": {},
   "outputs": [],
   "source": [
    "fit_transform()"
   ]
  },
  {
   "cell_type": "code",
   "execution_count": null,
   "id": "60ec9658",
   "metadata": {},
   "outputs": [],
   "source": [
    "#Loop\n",
    "import pandas as pd\n",
    "import numpy as np\n",
    "x3 = x2.select_dtypes(include='number')\n",
    "\n",
    "n=x2.shape[1]\n",
    "\n",
    "for col in x3.columns:\n",
    "    c1=(x3[col])\n",
    "    min=c1.min()\n",
    "    max=c1.max()\n",
    "    \n",
    "    for j in range(len(c1)):\n",
    "        a=(c1[j]-c1.min())\n",
    "        b=max-min\n",
    "        c1[j]=a/b\n",
    "        \n",
    "    x3[col]=c1\n",
    "    \n",
    "print(x3)\n",
    "\n",
    "\n",
    "        "
   ]
  },
  {
   "cell_type": "code",
   "execution_count": null,
   "id": "8a94a162",
   "metadata": {},
   "outputs": [],
   "source": [
    "x['Marketing Spend'].min()"
   ]
  },
  {
   "cell_type": "code",
   "execution_count": null,
   "id": "d1481e82",
   "metadata": {},
   "outputs": [],
   "source": [
    "x['Marketing Spend'].max()"
   ]
  },
  {
   "cell_type": "code",
   "execution_count": null,
   "id": "99e40769",
   "metadata": {},
   "outputs": [],
   "source": [
    "x['Marketing Spend'].min()"
   ]
  },
  {
   "cell_type": "code",
   "execution_count": null,
   "id": "770f9ce6",
   "metadata": {},
   "outputs": [],
   "source": [
    "#do manually"
   ]
  },
  {
   "cell_type": "code",
   "execution_count": null,
   "id": "1c7ae51b",
   "metadata": {},
   "outputs": [],
   "source": []
  },
  {
   "cell_type": "markdown",
   "id": "7fcceae9",
   "metadata": {},
   "source": [
    "# Standard Scaler"
   ]
  },
  {
   "cell_type": "code",
   "execution_count": null,
   "id": "77b716d5",
   "metadata": {},
   "outputs": [],
   "source": [
    "#https://scikit-learn.org/stable/modules/generated/sklearn.preprocessing.StandardScaler.html"
   ]
  },
  {
   "cell_type": "code",
   "execution_count": null,
   "id": "c71c85dd",
   "metadata": {},
   "outputs": [],
   "source": [
    "x2['Marketing Spend'].std()"
   ]
  },
  {
   "cell_type": "code",
   "execution_count": null,
   "id": "f4e0e910",
   "metadata": {},
   "outputs": [],
   "source": [
    "x2['Marketing Spend'].mean()"
   ]
  },
  {
   "cell_type": "code",
   "execution_count": null,
   "id": "02e87900",
   "metadata": {},
   "outputs": [],
   "source": [
    "#do manually\n",
    "\n",
    "#Loop\n",
    "\n",
    "\n",
    "import pandas as pd\n",
    "import numpy as np\n",
    "\n",
    "import math\n",
    "\n",
    "x4.fillna(0,inplace=True)\n",
    "x5 = x4.select_dtypes(include='number')\n",
    "\n",
    "\n",
    "x8 = x4.select_dtypes(include='number')\n",
    "x9 = x4.select_dtypes(include='number')\n",
    "x10 = x4.select_dtypes(include='number')\n",
    "x11 = x4.select_dtypes(include='number')\n",
    "x7 = x4.select_dtypes(include='number')\n",
    "\n",
    "\n",
    "for col in x5.columns:\n",
    "    \n",
    "    c1=x5[col]\n",
    "    \n",
    "    m=c1.mean()\n",
    "    s=0\n",
    "    \n",
    "    for i in range(len(c1)):\n",
    "        n1=c1[i]\n",
    "        a=(n1-m)*((n1-m))\n",
    "             \n",
    "        s=s+a\n",
    "        \n",
    "\n",
    "    std_dev=math.sqrt((s/len(c1)))\n",
    "                  \n",
    "    \n",
    "    for i in range(len(c1)):\n",
    "                  \n",
    "                  c1[i]=(c1[i]-m)/std_dev\n",
    "                  \n",
    "    \n",
    "    x5[col]=c1\n",
    "                  \n",
    "#print(x5) \n"
   ]
  },
  {
   "cell_type": "code",
   "execution_count": null,
   "id": "22ac5097",
   "metadata": {},
   "outputs": [],
   "source": [
    "#sklearn\n",
    "\n",
    "from sklearn.preprocessing import StandardScaler\n",
    "\n",
    "std_sclr= StandardScaler()\n",
    "\n",
    "scaled_data = std_sclr.fit_transform(x7)\n",
    "\n",
    "\n",
    "scaled_data"
   ]
  },
  {
   "cell_type": "code",
   "execution_count": null,
   "id": "71f237db",
   "metadata": {},
   "outputs": [],
   "source": []
  },
  {
   "cell_type": "markdown",
   "id": "3fd23f2d",
   "metadata": {},
   "source": [
    "# Robust"
   ]
  },
  {
   "cell_type": "code",
   "execution_count": null,
   "id": "2c101bb0",
   "metadata": {},
   "outputs": [],
   "source": [
    "#Manually\n",
    "\n",
    "for col in x8.columns:\n",
    "    \n",
    "    c1=x8[col]\n",
    "    \n",
    "    c1=c1.sort_values()\n",
    "    \n",
    "    \n",
    "    fifty_percentile=c1.quantile(0.5)\n",
    "    seventy_five_percentile=c1.quantile(0.75)\n",
    "    twentyfive_percentile=c1.quantile(0.25)\n",
    "    \n",
    "    for i in range(len(c1)):\n",
    "        \n",
    "        a=c1[i]\n",
    "        \n",
    "        g=a-fifty_percentile\n",
    "        \n",
    "        f=seventy_five_percentile-twentyfive_percentile\n",
    "        \n",
    "        c1[i]=g/f\n",
    "        \n",
    "    \n",
    "    x8[col]=c1\n",
    "    \n",
    "\n",
    "        \n",
    "\n",
    "print(x8)      \n",
    "        \n",
    "        \n",
    "        \n",
    "    \n"
   ]
  },
  {
   "cell_type": "code",
   "execution_count": null,
   "id": "271f7afd",
   "metadata": {},
   "outputs": [],
   "source": [
    "###sklearn\n",
    "\n",
    "import pandas as pd\n",
    "import numpy as np\n",
    "\n",
    "from sklearn.preprocessing import RobustScaler\n",
    "\n",
    "robust= RobustScaler()\n",
    "\n",
    "x9=robust.fit_transform(x9)\n",
    "\n",
    "print(x9)"
   ]
  },
  {
   "cell_type": "code",
   "execution_count": null,
   "id": "2a7b807d",
   "metadata": {},
   "outputs": [],
   "source": []
  },
  {
   "cell_type": "markdown",
   "id": "90136c02",
   "metadata": {},
   "source": [
    "# Max Abs"
   ]
  },
  {
   "cell_type": "code",
   "execution_count": null,
   "id": "562c7029",
   "metadata": {},
   "outputs": [],
   "source": [
    "#manual\n",
    "\n",
    "import pandas as pd\n",
    "import numpy as np\n",
    "import math\n",
    "\n",
    "c=0\n",
    "\n",
    "\n",
    "for col in x10.columns:\n",
    "    \n",
    "    c1=x10[col]\n",
    "    m=c1.max()\n",
    "    m=abs(m)\n",
    "    \n",
    "    #print('m',m)\n",
    "    \n",
    "    for i in range(len(c1)):\n",
    "        \n",
    "        a=c1[i]\n",
    "        \n",
    "        #print('a',a)\n",
    "        #print('m',m)\n",
    "            \n",
    "        x_scaled=a/m\n",
    "        \n",
    "        c1[i]= x_scaled\n",
    "        \n",
    "    x10[col]=c1\n",
    "    \n",
    "    c+=1\n",
    "    \n",
    "\n",
    "print(x10)\n",
    "    \n"
   ]
  },
  {
   "cell_type": "code",
   "execution_count": null,
   "id": "031cd05f",
   "metadata": {},
   "outputs": [],
   "source": [
    "#sklearn\n",
    "\n",
    "from sklearn.preprocessing import MaxAbsScaler\n",
    "scaler = MaxAbsScaler()\n",
    "\n",
    "model = scaler.fit(x11)\n",
    "\n",
    "x12=model.transform(x11)\n",
    "\n",
    "x12\n"
   ]
  },
  {
   "cell_type": "code",
   "execution_count": null,
   "id": "45c60fb0",
   "metadata": {},
   "outputs": [],
   "source": []
  },
  {
   "cell_type": "code",
   "execution_count": null,
   "id": "761a6a85",
   "metadata": {},
   "outputs": [],
   "source": []
  }
 ],
 "metadata": {
  "kernelspec": {
   "display_name": "Python 3 (ipykernel)",
   "language": "python",
   "name": "python3"
  },
  "language_info": {
   "codemirror_mode": {
    "name": "ipython",
    "version": 3
   },
   "file_extension": ".py",
   "mimetype": "text/x-python",
   "name": "python",
   "nbconvert_exporter": "python",
   "pygments_lexer": "ipython3",
   "version": "3.10.9"
  }
 },
 "nbformat": 4,
 "nbformat_minor": 5
}
